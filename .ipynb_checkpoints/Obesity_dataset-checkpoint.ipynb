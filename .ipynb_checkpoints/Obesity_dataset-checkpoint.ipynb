{
 "cells": [
  {
   "cell_type": "code",
   "execution_count": null,
   "id": "a16c0395-0886-4411-aea5-8aae1955a903",
   "metadata": {},
   "outputs": [],
   "source": [
    "import pandas as pd\n",
    "from sklearn.metrics import accuracy_score, confusion_matrix, ConfusionMatrixDisplay\n",
    "import matplotlib.pyplot as plt\n",
    "import seaborn as sns\n",
    "from sklearn.cluster import KMeans\n",
    "from sklearn.model_selection import train_test_split\n",
    "from sklearn.preprocessing import LabelEncoder, StandardScaler\n",
    "from sklearn.linear_model import LogisticRegression\n",
    "from sklearn.ensemble import RandomForestClassifier\n",
    "from sklearn.neighbors import KNeighborsClassifier\n",
    "from xgboost import XGBClassifier\n",
    "from sklearn.metrics import accuracy_score, classification_report\n",
    "import time"
   ]
  },
  {
   "cell_type": "code",
   "execution_count": null,
   "id": "08e5131a-3e32-42c7-aac9-f722a7a67b41",
   "metadata": {},
   "outputs": [],
   "source": [
    "#Load the dataset\n",
    "obesity_df = pd.read_csv('ObesityDataSet_raw_and_data_sinthetic.csv')\n",
    "obesity_df"
   ]
  },
  {
   "cell_type": "code",
   "execution_count": null,
   "id": "04d86874-9951-49e5-b121-9638108b22c9",
   "metadata": {},
   "outputs": [],
   "source": [
    "#Display basic information about the dataset\n",
    "obesity_df.info()"
   ]
  },
  {
   "cell_type": "code",
   "execution_count": null,
   "id": "4e66e1db-f8d3-4388-9067-c92303a159c1",
   "metadata": {},
   "outputs": [],
   "source": [
    "# Display the unique obesity levels in the target column\n",
    "unique_obesity_levels = obesity_df['NObeyesdad'].unique()\n",
    "unique_obesity_levels"
   ]
  },
  {
   "cell_type": "code",
   "execution_count": null,
   "id": "2e144054-b589-4608-ad95-a5ec0097453b",
   "metadata": {},
   "outputs": [],
   "source": [
    "# Count the occurrences of each unique value in the target column\n",
    "target_counts = obesity_df['NObeyesdad'].value_counts()\n",
    "target_counts"
   ]
  },
  {
   "cell_type": "code",
   "execution_count": null,
   "id": "4f4aaec5-7c5e-460a-bd04-787fa49bc979",
   "metadata": {},
   "outputs": [],
   "source": [
    "#Check for missing values\n",
    "obesity_df.isnull().sum()"
   ]
  },
  {
   "cell_type": "code",
   "execution_count": null,
   "id": "b02e2a71-8ffe-480c-968a-b5b48a56d531",
   "metadata": {},
   "outputs": [],
   "source": [
    "#Display basic statistics of the dataset\n",
    "obesity_df.describe()"
   ]
  },
  {
   "cell_type": "code",
   "execution_count": null,
   "id": "96fc8dae-0386-4f10-a790-cbce576907f7",
   "metadata": {},
   "outputs": [],
   "source": [
    "#Distribution of target variable (Obesity Levels)\n",
    "plt.figure(figsize=(12, 6))\n",
    "sns.countplot(x='NObeyesdad', data=obesity_df)\n",
    "plt.title('Distribution of Obesity Levels (Target Variable)')\n",
    "plt.show()"
   ]
  },
  {
   "cell_type": "code",
   "execution_count": null,
   "id": "80e53228-5841-47a6-95bd-fb9af7aefa4a",
   "metadata": {},
   "outputs": [],
   "source": [
    "#Correlation matrix heatmap of numerical features \n",
    "#Selecting only numerical columns from the dataset for correlation\n",
    "numerical_cols = obesity_df.select_dtypes(include=['float64', 'int64'])\n",
    "\n",
    "plt.figure(figsize=(12, 6))\n",
    "sns.heatmap(numerical_cols.corr(), annot=True, cmap='coolwarm', fmt='.2f')\n",
    "plt.title('Correlation Matrix of Numerical Features')\n",
    "plt.show()"
   ]
  },
  {
   "cell_type": "code",
   "execution_count": null,
   "id": "0cdc556a-78c6-4e83-834f-694173210c66",
   "metadata": {},
   "outputs": [],
   "source": [
    "#Visualizing relationships between Age, Weight, and Obesity Level\n",
    "plt.figure(figsize=(12, 8))\n",
    "sns.scatterplot(x='Age', y='Weight', hue='NObeyesdad', data=obesity_df)\n",
    "plt.title('Scatterplot of Age vs Weight by Obesity Level')\n",
    "plt.show()"
   ]
  },
  {
   "cell_type": "code",
   "execution_count": null,
   "id": "8eeda416-2622-40ba-be42-49ffe107f496",
   "metadata": {},
   "outputs": [],
   "source": [
    "#Boxplot of Age vs Obesity Level\n",
    "plt.figure(figsize=(12, 6))\n",
    "sns.boxplot(x='NObeyesdad', y='Age', data=obesity_df)\n",
    "plt.title('Boxplot of Age by Obesity Level')\n",
    "plt.show()"
   ]
  },
  {
   "cell_type": "code",
   "execution_count": null,
   "id": "d6f8f8ca-6474-4378-8fd5-0c4bb91955f8",
   "metadata": {},
   "outputs": [],
   "source": [
    "#Distribution of numeric features (e.g., Age, Height, Weight)\n",
    "plt.figure(figsize=(12, 6))\n",
    "obesity_df[['Age', 'Height', 'Weight']].hist(bins=30, figsize=(15, 5))\n",
    "plt.suptitle('Distributions of Age, Height, and Weight')\n",
    "plt.show()"
   ]
  },
  {
   "cell_type": "code",
   "execution_count": null,
   "id": "eeb9eedd-e329-4058-977d-2153e96883a2",
   "metadata": {},
   "outputs": [],
   "source": [
    "#Encode categorical variables\n",
    "label_encoder = LabelEncoder()\n",
    "categorical_cols = ['Gender', 'family_history_with_overweight', 'FAVC','CAEC', 'SMOKE', 'SCC', 'CALC', 'MTRANS', 'NObeyesdad']\n",
    "for col in categorical_cols:\n",
    "    obesity_df[col] = label_encoder.fit_transform(obesity_df[col])"
   ]
  },
  {
   "cell_type": "code",
   "execution_count": null,
   "id": "2c4a0bd5-69c9-4342-8a93-4a4c857bc4ce",
   "metadata": {},
   "outputs": [],
   "source": [
    "#Separate features and target\n",
    "x = obesity_df.drop('NObeyesdad', axis=1)\n",
    "y = obesity_df['NObeyesdad']"
   ]
  },
  {
   "cell_type": "code",
   "execution_count": null,
   "id": "d059975d-3227-4f13-8219-b13df16bd5ac",
   "metadata": {},
   "outputs": [],
   "source": [
    "x"
   ]
  },
  {
   "cell_type": "code",
   "execution_count": null,
   "id": "9d9bd360-b1d6-4758-8847-8054b71e7ac3",
   "metadata": {},
   "outputs": [],
   "source": [
    "y"
   ]
  },
  {
   "cell_type": "code",
   "execution_count": null,
   "id": "f8042a36-eb33-450d-94bf-b146b74b67ef",
   "metadata": {},
   "outputs": [],
   "source": [
    "#Scale numerical features\n",
    "scaler = StandardScaler()\n",
    "X_scaled = scaler.fit_transform(x)\n",
    "X_scaled"
   ]
  },
  {
   "cell_type": "code",
   "execution_count": null,
   "id": "d8cdabed-95de-45a7-9588-7f35541247be",
   "metadata": {},
   "outputs": [],
   "source": [
    "#Train-test split\n",
    "X_train, X_test, y_train, y_test = train_test_split(X_scaled, y, test_size=0.2, random_state=42)\n"
   ]
  },
  {
   "cell_type": "code",
   "execution_count": null,
   "id": "546c2f65-e4ea-4335-a06b-3c7c5fcf6233",
   "metadata": {},
   "outputs": [],
   "source": [
    "#Initialize models\n",
    "logistic_model = LogisticRegression(max_iter=1000, random_state=42)\n",
    "random_forest_model = RandomForestClassifier(n_estimators=100, random_state=42)\n",
    "knn_model = KNeighborsClassifier(n_neighbors=5)\n",
    "xgboost_model = XGBClassifier(random_state=42)\n",
    "\n",
    "# Dictionary to store the models and their names\n",
    "models = {\n",
    "    \"Logistic Regression\": logistic_model,\n",
    "    \"Random Forest\": random_forest_model,\n",
    "    \"K-Nearest Neighbors\": knn_model,\n",
    "    \"XGBoost\": xgboost_model\n",
    "}\n"
   ]
  },
  {
   "cell_type": "code",
   "execution_count": null,
   "id": "2776193b-0391-48c9-93c6-49f5308d7cbe",
   "metadata": {},
   "outputs": [],
   "source": [
    "#Dictionary to store the results\n",
    "results = {}\n",
    "\n",
    "#Train each model and evaluate\n",
    "for model_name, model in models.items():\n",
    "    start_time = time.time()\n",
    "    model.fit(X_train, y_train)\n",
    "    y_pred = model.predict(X_test)\n",
    "    accuracy = accuracy_score(y_test, y_pred)\n",
    "    end_time = time.time()\n",
    "    \n",
    "    # Store the results (accuracy and time taken)\n",
    "    results[model_name] = {\n",
    "        \"Accuracy\": accuracy,\n",
    "        \"Time Taken (s)\": end_time - start_time,\n",
    "        \"Classification Report\": classification_report(y_test, y_pred, target_names=['Insufficient_Weight', 'Normal_Weight', 'Overweight_Level_I', 'Overweight_Level_II', 'Obesity_Type_I', 'Obesity_Type_II', 'Obesity_Type_III'])\n",
    "    }\n"
   ]
  },
  {
   "cell_type": "code",
   "execution_count": null,
   "id": "a58dca9a-ccba-46cd-aaee-734b04c8142e",
   "metadata": {},
   "outputs": [],
   "source": [
    "#Displaying results for each model\n",
    "for model_name, metrics in results.items():\n",
    "    print(f\"Model: {model_name}\")\n",
    "    print(f\"Accuracy: {metrics['Accuracy']}\")\n",
    "    print(f\"Time Taken: {metrics['Time Taken (s)']:.2f} seconds\")\n",
    "    print(f\"Classification Report:\\n{metrics['Classification Report']}\")\n",
    "    print(\"=\"*60)"
   ]
  },
  {
   "cell_type": "code",
   "execution_count": null,
   "id": "fdad46ac-d29f-4225-a2c7-288f5542e941",
   "metadata": {},
   "outputs": [],
   "source": [
    "#Summary of Findings:\n",
    "\n",
    "\t#1.\tBest Model: XGBoost is the best overall performer, with the highest accuracy (96.22%) and excellent precision and recall across all classes. It is particularly effective for both majority and minority classes.\n",
    "\t#2.\tRandom Forest: Also performs very well, with high accuracy (95.74%). It’s a good alternative to XGBoost if interpretability or ensemble-based models are preferred.\n",
    "\t#3.\tLogistic Regression: Offers good accuracy (87.47%) with the fastest training time. It’s a good choice when speed is a priority and moderate accuracy is acceptable.\n",
    "\t#4.\tKNN: Has the lowest accuracy (82.03%), indicating that it may not be the best choice for this dataset, especially given its struggles with certain classes.\n",
    "\n",
    "\n",
    "\n",
    "\n"
   ]
  },
  {
   "cell_type": "code",
   "execution_count": null,
   "id": "4468d760-0aab-462f-a8ea-0019a0513c31",
   "metadata": {},
   "outputs": [],
   "source": []
  }
 ],
 "metadata": {
  "kernelspec": {
   "display_name": "Python 3 (ipykernel)",
   "language": "python",
   "name": "python3"
  },
  "language_info": {
   "codemirror_mode": {
    "name": "ipython",
    "version": 3
   },
   "file_extension": ".py",
   "mimetype": "text/x-python",
   "name": "python",
   "nbconvert_exporter": "python",
   "pygments_lexer": "ipython3",
   "version": "3.11.7"
  }
 },
 "nbformat": 4,
 "nbformat_minor": 5
}
